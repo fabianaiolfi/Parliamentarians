{
 "cells": [
  {
   "cell_type": "markdown",
   "id": "453ea87e",
   "metadata": {},
   "source": [
    "# BERTopic Sandbox\n",
    "https://maartengr.github.io/BERTopic/getting_started/semisupervised/semisupervised.html"
   ]
  },
  {
   "cell_type": "markdown",
   "id": "15aae420",
   "metadata": {},
   "source": [
    "## Semi-supervised Topic Modeling\n",
    "https://maartengr.github.io/BERTopic/getting_started/semisupervised/semisupervised.html"
   ]
  },
  {
   "cell_type": "code",
   "execution_count": null,
   "id": "f9414584",
   "metadata": {},
   "outputs": [],
   "source": [
    "from bertopic import BERTopic\n",
    "from sklearn.datasets import fetch_20newsgroups\n",
    "\n",
    "data = fetch_20newsgroups(subset='all',  remove=('headers', 'footers', 'quotes'))\n",
    "docs = data[\"data\"]\n",
    "categories = data[\"target\"]\n",
    "category_names = data[\"target_names\"]\n"
   ]
  },
  {
   "cell_type": "markdown",
   "id": "50262ce6",
   "metadata": {},
   "source": [
    "## Supervised Topic Modeling\n",
    "https://maartengr.github.io/BERTopic/getting_started/supervised/supervised.html"
   ]
  },
  {
   "cell_type": "code",
   "execution_count": null,
   "id": "68836e62",
   "metadata": {},
   "outputs": [],
   "source": [
    "from sklearn.datasets import fetch_20newsgroups\n",
    "\n",
    "# Get labeled data\n",
    "data = fetch_20newsgroups(subset='all',  remove=('headers', 'footers', 'quotes'))\n",
    "docs = data['data']\n",
    "y = data['target']"
   ]
  },
  {
   "cell_type": "code",
   "execution_count": null,
   "id": "3812b02b",
   "metadata": {},
   "outputs": [],
   "source": [
    "from bertopic import BERTopic\n",
    "from bertopic.vectorizers import ClassTfidfTransformer\n",
    "from bertopic.dimensionality import BaseDimensionalityReduction\n",
    "from sklearn.linear_model import LogisticRegression\n"
   ]
  },
  {
   "cell_type": "code",
   "execution_count": null,
   "id": "24247d05",
   "metadata": {},
   "outputs": [],
   "source": [
    "\n",
    "# Get labeled data\n",
    "data = fetch_20newsgroups(subset='all',  remove=('headers', 'footers', 'quotes'))\n",
    "docs = data['data']\n",
    "y = data['target']\n"
   ]
  },
  {
   "cell_type": "code",
   "execution_count": null,
   "id": "f44cad78",
   "metadata": {},
   "outputs": [],
   "source": [
    "\n",
    "# Skip over dimensionality reduction, replace cluster model with classifier,\n",
    "# and reduce frequent words while we are at it.\n",
    "empty_dimensionality_model = BaseDimensionalityReduction()\n",
    "clf = LogisticRegression()\n",
    "ctfidf_model = ClassTfidfTransformer(reduce_frequent_words=True)\n"
   ]
  },
  {
   "cell_type": "code",
   "execution_count": null,
   "id": "ca36d0c5",
   "metadata": {},
   "outputs": [],
   "source": [
    "\n",
    "# Create a fully supervised BERTopic instance\n",
    "topic_model= BERTopic(\n",
    "        umap_model=empty_dimensionality_model,\n",
    "        hdbscan_model=clf,\n",
    "        ctfidf_model=ctfidf_model\n",
    ")\n",
    "topics, probs = topic_model.fit_transform(docs, y=y)\n"
   ]
  },
  {
   "cell_type": "markdown",
   "id": "29c73b8a",
   "metadata": {},
   "source": [
    "## Guided Topic Modeling\n",
    "https://maartengr.github.io/BERTopic/getting_started/guided/guided.html"
   ]
  },
  {
   "cell_type": "code",
   "execution_count": 1,
   "id": "0185b3f1",
   "metadata": {},
   "outputs": [
    {
     "name": "stderr",
     "output_type": "stream",
     "text": [
      "/Users/aiolf1/anaconda3/envs/BERTopic/lib/python3.11/site-packages/umap/distances.py:1063: NumbaDeprecationWarning: The 'nopython' keyword argument was not supplied to the 'numba.jit' decorator. The implicit default value for this argument is currently False, but it will be changed to True in Numba 0.59.0. See https://numba.readthedocs.io/en/stable/reference/deprecation.html#deprecation-of-object-mode-fall-back-behaviour-when-using-jit for details.\n",
      "  @numba.jit()\n",
      "/Users/aiolf1/anaconda3/envs/BERTopic/lib/python3.11/site-packages/umap/distances.py:1071: NumbaDeprecationWarning: The 'nopython' keyword argument was not supplied to the 'numba.jit' decorator. The implicit default value for this argument is currently False, but it will be changed to True in Numba 0.59.0. See https://numba.readthedocs.io/en/stable/reference/deprecation.html#deprecation-of-object-mode-fall-back-behaviour-when-using-jit for details.\n",
      "  @numba.jit()\n",
      "/Users/aiolf1/anaconda3/envs/BERTopic/lib/python3.11/site-packages/umap/distances.py:1086: NumbaDeprecationWarning: The 'nopython' keyword argument was not supplied to the 'numba.jit' decorator. The implicit default value for this argument is currently False, but it will be changed to True in Numba 0.59.0. See https://numba.readthedocs.io/en/stable/reference/deprecation.html#deprecation-of-object-mode-fall-back-behaviour-when-using-jit for details.\n",
      "  @numba.jit()\n",
      "/Users/aiolf1/anaconda3/envs/BERTopic/lib/python3.11/site-packages/tqdm/auto.py:21: TqdmWarning: IProgress not found. Please update jupyter and ipywidgets. See https://ipywidgets.readthedocs.io/en/stable/user_install.html\n",
      "  from .autonotebook import tqdm as notebook_tqdm\n",
      "/Users/aiolf1/anaconda3/envs/BERTopic/lib/python3.11/site-packages/umap/umap_.py:660: NumbaDeprecationWarning: The 'nopython' keyword argument was not supplied to the 'numba.jit' decorator. The implicit default value for this argument is currently False, but it will be changed to True in Numba 0.59.0. See https://numba.readthedocs.io/en/stable/reference/deprecation.html#deprecation-of-object-mode-fall-back-behaviour-when-using-jit for details.\n",
      "  @numba.jit()\n"
     ]
    }
   ],
   "source": [
    "from bertopic import BERTopic\n",
    "#from sklearn.datasets import fetch_20newsgroups\n",
    "import pandas as pd\n",
    "import csv\n",
    "import re\n",
    "from nltk.corpus import stopwords"
   ]
  },
  {
   "cell_type": "code",
   "execution_count": 2,
   "id": "f223d1e1",
   "metadata": {},
   "outputs": [],
   "source": [
    "\n",
    "#docs = fetch_20newsgroups(subset='all',  remove=('headers', 'footers', 'quotes'))[\"data\"]\n",
    "#docs = fetch_20newsgroups(subset='test', categories=['sci.med', 'sci.space', 'comp.windows.x'], remove=('headers', 'footers', 'quotes'))[\"data\"]\n",
    "\n",
    "df = pd.read_csv('all_businesses_04.tsv', sep='\\t')\n",
    "docs = df[\"all\"]\n",
    "\n",
    "# Remove punctuation\n",
    "docs = [re.sub(r'[^\\w\\s]', '', doc) for doc in docs]\n",
    "\n",
    "# Lowercase\n",
    "docs = [doc.lower() for doc in docs]\n",
    "\n",
    "# Remove stopwords\n",
    "german_stop_words = stopwords.words('german')\n",
    "\n",
    "# Import custom stopwords file as list of strings\n",
    "with open('../../data/custom_stopwords.txt', 'r') as f:\n",
    "   custom_stopwords = f.readlines()\n",
    "\n",
    "# remove whitespace characters like `\\n` at the end of each line\n",
    "custom_stopwords = [x.strip() for x in custom_stopwords]\n",
    "\n",
    "# remove stopwords from docs\n",
    "docs = [' '.join(word for word in doc.lower().split() if word not in german_stop_words) for doc in docs]\n",
    "docs = [' '.join(word for word in doc.lower().split() if word not in custom_stopwords) for doc in docs]\n",
    "\n",
    "# remove \"na\" from docs\n",
    "docs = [doc for doc in docs if doc != \"na\"]"
   ]
  },
  {
   "cell_type": "code",
   "execution_count": 3,
   "id": "765587c8",
   "metadata": {},
   "outputs": [
    {
     "name": "stderr",
     "output_type": "stream",
     "text": [
      "Batches: 100%|██████████| 19/19 [01:23<00:00,  4.41s/it]\n",
      "2023-08-15 15:40:32,787 - BERTopic - Transformed documents to Embeddings\n",
      "Batches: 100%|██████████| 1/1 [00:00<00:00, 18.14it/s]\n",
      "2023-08-15 15:40:43,105 - BERTopic - Reduced dimensionality\n",
      "2023-08-15 15:40:43,145 - BERTopic - Clustered reduced embeddings\n"
     ]
    }
   ],
   "source": [
    "\n",
    "#seed_topic_list = [[\"steuer\", \"ausland\", \"hilfe\"],\n",
    "#                   [\"covid-19\", \"ausgleich\", \"franken\"]]\n",
    "\n",
    "seed_topic_list = [[\"konjunkturpolitik\"],\n",
    "                   [\"wettbewerbspolitik\"],\n",
    "                   [\"strukturpolitik\"],\n",
    "                   [\"preispolitik\"],\n",
    "                   [\"konsumentenschutz\"],\n",
    "                   [\"gesellschaftsrecht\"],\n",
    "]\n",
    "\n",
    "topic_model = BERTopic(seed_topic_list = seed_topic_list, verbose = True)\n",
    "topics, probs = topic_model.fit_transform(docs)\n"
   ]
  },
  {
   "cell_type": "code",
   "execution_count": 4,
   "id": "81118ca8",
   "metadata": {},
   "outputs": [
    {
     "name": "stdout",
     "output_type": "stream",
     "text": [
      "There are 18 topics.\n"
     ]
    }
   ],
   "source": [
    "# Number of topics\n",
    "topic_info = topic_model.get_topic_info()\n",
    "num_topics = topic_info.shape[0]\n",
    "print(f\"There are {num_topics} topics.\")"
   ]
  },
  {
   "cell_type": "code",
   "execution_count": 5,
   "id": "5bf54f21",
   "metadata": {},
   "outputs": [
    {
     "name": "stdout",
     "output_type": "stream",
     "text": [
      "topic_model.get_topic_info()\n",
      "    Topic  Count                                               Name  \\\n",
      "0      -1    265                    -1_schweiz_botschaft_10_kantone   \n",
      "1       0     48  0_bundesgericht_richter_richterinnen_bundesgesetz   \n",
      "2       1     32                1_schweiz_europischen_eu_europische   \n",
      "3       2     25  2_informationsaustausch_doppelbesteuerung_divi...   \n",
      "4       3     25  3_landwirtschaft_agrarpolitik_umwelt_direktzah...   \n",
      "5       4     22              4_bibliomedia_banken_schweiz_stiftung   \n",
      "6       5     20      5_verkehr_ffentlichen_finanzierung_bahnreform   \n",
      "7       6     20          6_ahvnummer_ministerinnen_minister_urlaub   \n",
      "8       7     19               7_armee_zellen_organen_mindeststrafe   \n",
      "9       8     17                 8_pflege_kvg_gesundheit_ambulanten   \n",
      "10      9     14  9_vertrge_unterdeckung_anlagestrategie_leibrenten   \n",
      "11     10     14  10_2050_treibhausgasemissionen_co2gesetzes_gle...   \n",
      "12     11     12          11_daten_datenschutz_egmr_individualdaten   \n",
      "13     12     12  12_arbeitnehmer_arbeitgeber_arbeitsbedingungen...   \n",
      "14     13     12           13_eltern_kinderbetreuung_kinder_familie   \n",
      "15     14     11  14_zusammenarbeit_bekmpfung_kriminalitt_grenzb...   \n",
      "16     15     10      15_integration_auslnderinnen_auslnder_schweiz   \n",
      "17     16     10  16_aussenwirtschaftspolitik_schweiz_fleisch_sc...   \n",
      "\n",
      "                                       Representation  \\\n",
      "0   [schweiz, botschaft, 10, kantone, verabschiede...   \n",
      "1   [bundesgericht, richter, richterinnen, bundesg...   \n",
      "2   [schweiz, europischen, eu, europische, vis, et...   \n",
      "3   [informationsaustausch, doppelbesteuerung, div...   \n",
      "4   [landwirtschaft, agrarpolitik, umwelt, direktz...   \n",
      "5   [bibliomedia, banken, schweiz, stiftung, finan...   \n",
      "6   [verkehr, ffentlichen, finanzierung, bahnrefor...   \n",
      "7   [ahvnummer, ministerinnen, minister, urlaub, d...   \n",
      "8   [armee, zellen, organen, mindeststrafe, widers...   \n",
      "9   [pflege, kvg, gesundheit, ambulanten, gesundhe...   \n",
      "10  [vertrge, unterdeckung, anlagestrategie, leibr...   \n",
      "11  [2050, treibhausgasemissionen, co2gesetzes, gl...   \n",
      "12  [daten, datenschutz, egmr, individualdaten, ed...   \n",
      "13  [arbeitnehmer, arbeitgeber, arbeitsbedingungen...   \n",
      "14  [eltern, kinderbetreuung, kinder, familie, ver...   \n",
      "15  [zusammenarbeit, bekmpfung, kriminalitt, grenz...   \n",
      "16  [integration, auslnderinnen, auslnder, schweiz...   \n",
      "17  [aussenwirtschaftspolitik, schweiz, fleisch, s...   \n",
      "\n",
      "                                  Representative_Docs  \n",
      "0   [förderung bildung forschung innovation jahren...  \n",
      "1   [bundesgericht erhöhung zahl ordentlichen rich...  \n",
      "2   [lebensmittelgesetz revision übersicht botscha...  \n",
      "3   [doppelbesteuerung bulgarien übersicht botscha...  \n",
      "4   [risiko beim einsatz pestiziden reduzieren abg...  \n",
      "5   [verrechnungssteuergesetz 11092015 verabschied...  \n",
      "6   [bau finanzierung 4meterkorridors zulaufstreck...  \n",
      "7   [or aktien rechnungslegungsrecht 21122007 revi...  \n",
      "8   [militärgesetz armeeorganisation 01092021 vera...  \n",
      "9   [kvg steuerung ambulanten bereichs 18022015 ka...  \n",
      "10  [zivilprozessordnung 26022020 zivilprozessordn...  \n",
      "11  [gesundes klima gletscherinitiative 11082021 v...  \n",
      "12  [schengenbesitzstands waffengesetzes entwürfen...  \n",
      "13  [bundespersonalgesetz übersicht botschaft bund...  \n",
      "14  [finanzhilfen familienergänzende kinderbetreuu...  \n",
      "15  [bekämpfung kriminalität albanien mazedonien g...  \n",
      "16  [ausländergesetz integration 08032013 botschaf...  \n",
      "17  [aussenwirtschaftspolitik 2020 21012021 covid1...  \n"
     ]
    }
   ],
   "source": [
    "print(\"topic_model.get_topic_info()\")\n",
    "print(topic_model.get_topic_info())"
   ]
  },
  {
   "cell_type": "code",
   "execution_count": 6,
   "id": "d1f2722a",
   "metadata": {},
   "outputs": [],
   "source": [
    "doc_level_info = topic_model.get_document_info(docs)"
   ]
  },
  {
   "cell_type": "code",
   "execution_count": null,
   "id": "c2d81666",
   "metadata": {},
   "outputs": [],
   "source": [
    "from bertopic import BERTopic\n",
    "from sklearn.datasets import fetch_20newsgroups\n",
    "\n",
    "docs = fetch_20newsgroups(subset='test',  remove=('headers', 'footers', 'quotes'))[\"data\"]\n",
    "\n",
    "seed_topic_list = [[\"drug\", \"cancer\", \"drugs\", \"doctor\"],\n",
    "                   [\"windows\", \"drive\", \"dos\", \"file\"],\n",
    "                   [\"space\", \"launch\", \"orbit\", \"lunar\"]]\n",
    "\n",
    "topic_model = BERTopic(seed_topic_list=seed_topic_list, verbose = True)\n",
    "topics, probs = topic_model.fit_transform(docs)\n"
   ]
  },
  {
   "cell_type": "code",
   "execution_count": null,
   "id": "b988e02c",
   "metadata": {},
   "outputs": [],
   "source": [
    "import numpy as np\n",
    "print(np.__version__) # 1.24.4\n"
   ]
  },
  {
   "cell_type": "code",
   "execution_count": null,
   "id": "607c05d0",
   "metadata": {},
   "outputs": [],
   "source": [
    "pip install numpy==1.23.5"
   ]
  }
 ],
 "metadata": {
  "kernelspec": {
   "display_name": "Python 3 (ipykernel)",
   "language": "python",
   "name": "python3"
  },
  "language_info": {
   "codemirror_mode": {
    "name": "ipython",
    "version": 3
   },
   "file_extension": ".py",
   "mimetype": "text/x-python",
   "name": "python",
   "nbconvert_exporter": "python",
   "pygments_lexer": "ipython3",
   "version": "3.11.4"
  }
 },
 "nbformat": 4,
 "nbformat_minor": 5
}
