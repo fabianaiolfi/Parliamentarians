{
 "cells": [
  {
   "cell_type": "markdown",
   "id": "453ea87e",
   "metadata": {},
   "source": [
    "# Semi-supervised BERTopic Modeling\n",
    "https://maartengr.github.io/BERTopic/getting_started/semisupervised/semisupervised.html"
   ]
  },
  {
   "cell_type": "markdown",
   "id": "15aae420",
   "metadata": {},
   "source": [
    "## Setup"
   ]
  },
  {
   "cell_type": "code",
   "execution_count": null,
   "id": "befd5d2b-fd9b-41cd-a29c-5ace51820c18",
   "metadata": {},
   "outputs": [],
   "source": [
    "# ignore NumbaDeprecationWarning\n",
    "import numba\n",
    "import warnings\n",
    "warnings.filterwarnings(\"ignore\", category=numba.NumbaDeprecationWarning)\n",
    "\n",
    "from bertopic import BERTopic\n",
    "#from sklearn.datasets import fetch_20newsgroups\n",
    "\n",
    "import csv\n",
    "import re\n",
    "\n",
    "from nltk.corpus import stopwords\n",
    "\n",
    "from hdbscan import HDBSCAN\n",
    "\n",
    "import pandas as pd"
   ]
  },
  {
   "cell_type": "markdown",
   "id": "d4b4bc4f",
   "metadata": {},
   "source": [
    "## Import and Clean Data"
   ]
  },
  {
   "cell_type": "code",
   "execution_count": null,
   "id": "2d2a363b",
   "metadata": {},
   "outputs": [],
   "source": [
    "df = pd.read_csv('all_businesses_04.tsv', sep='\\t')\n",
    "\n",
    "docs = df[\"all\"]\n",
    "categories = df[\"TagNames\"]\n",
    "\n",
    "# Convert categories to numbers\n",
    "categories = pd.factorize(categories)[0]"
   ]
  },
  {
   "cell_type": "code",
   "execution_count": null,
   "id": "fe7d52a5-0c0e-4375-bf49-5d325de7527c",
   "metadata": {},
   "outputs": [],
   "source": [
    "# Remove punctuation\n",
    "docs = [re.sub(r'[^\\w\\s]', '', doc) for doc in docs]\n",
    "\n",
    "# Lowercase\n",
    "docs = [doc.lower() for doc in docs]\n",
    "\n",
    "# Remove stopwords\n",
    "german_stop_words = stopwords.words('german')\n",
    "\n",
    "# Import custom stopwords file as list of strings\n",
    "with open('../../data/custom_stopwords.txt', 'r') as f:\n",
    "   custom_stopwords = f.readlines()\n",
    "\n",
    "# remove whitespace characters like `\\n` at the end of each line\n",
    "custom_stopwords = [x.strip() for x in custom_stopwords]\n",
    "\n",
    "# remove stopwords from docs\n",
    "docs = [' '.join(word for word in doc.lower().split() if word not in german_stop_words) for doc in docs]\n",
    "docs = [' '.join(word for word in doc.lower().split() if word not in custom_stopwords) for doc in docs]\n",
    "\n",
    "# remove \"na\" from docs\n",
    "docs = [doc for doc in docs if doc != \"na\"]"
   ]
  },
  {
   "cell_type": "code",
   "execution_count": null,
   "id": "e29262b3-60ae-438a-8467-14fc6b548613",
   "metadata": {},
   "outputs": [],
   "source": [
    "# Insepct Data\n",
    "\n",
    "# print head of docs\n",
    "print(docs[:2])\n",
    "\n",
    "# print size of docs\n",
    "print(len(docs)) # 18846"
   ]
  },
  {
   "cell_type": "markdown",
   "id": "1514b5a8",
   "metadata": {},
   "source": [
    "## Modelling"
   ]
  },
  {
   "cell_type": "code",
   "execution_count": null,
   "id": "f9d83821-afbe-4c5c-a86e-0a19881291fe",
   "metadata": {},
   "outputs": [],
   "source": [
    "# https://maartengr.github.io/BERTopic/getting_started/parameter%20tuning/parametertuning.html#hdbscan\n",
    "hdbscan_model = HDBSCAN(\n",
    "    min_cluster_size = 2,\n",
    "    min_samples = 1,\n",
    "    metric = 'euclidean',\n",
    "    prediction_data = True)\n",
    "\n",
    "\n",
    "# BERTopic German model\n",
    "# Parameter tuning: https://maartengr.github.io/BERTopic/getting_started/parameter%20tuning/parametertuning.html#bertopic\n",
    "# topic_model = BERTopic(\n",
    "#     language = \"multilingual\",\n",
    "#     min_topic_size = 2,\n",
    "#     verbose = True,\n",
    "#     top_n_words = 20,\n",
    "#     n_gram_range = (1, 2),\n",
    "#     #calculate_probabilities = True, # turn on later again to calc probs\n",
    "#     hdbscan_model=hdbscan_model,\n",
    "#      # https://www.sbert.net/docs/pretrained_models.html\n",
    "#     embedding_model = \"distiluse-base-multilingual-cased-v1\").fit(docs, y = categories) # perform supervised topic modeling, we simply use all categories\n",
    "\n",
    "# Hyperparameter tuning - best results so far\n",
    "topic_model = BERTopic(\n",
    "    language = \"multilingual\",\n",
    "    min_topic_size = 2,\n",
    "    verbose = True,\n",
    "    top_n_words = 10,\n",
    "    n_gram_range = (1, 3),\n",
    "    hdbscan_model = hdbscan_model,\n",
    "     # https://www.sbert.net/docs/pretrained_models.html\n",
    "    embedding_model = \"paraphrase-multilingual-mpnet-base-v2\").fit(docs, y = categories) # perform supervised topic modeling, we simply use all categories\n",
    "\n",
    "topics, probs = topic_model.fit_transform(docs)\n"
   ]
  },
  {
   "cell_type": "code",
   "execution_count": 10,
   "id": "8e85ff8b",
   "metadata": {},
   "outputs": [],
   "source": [
    "# Reduce outliers\n",
    "new_topics = topic_model.reduce_outliers(docs, topics, strategy = \"embeddings\")"
   ]
  },
  {
   "cell_type": "code",
   "execution_count": null,
   "id": "ec315277",
   "metadata": {},
   "outputs": [],
   "source": [
    "# Number of topics\n",
    "topic_info = topic_model.get_topic_info()\n",
    "num_topics = topic_info.shape[0]\n",
    "print(f\"There are {num_topics} topics.\")"
   ]
  },
  {
   "cell_type": "code",
   "execution_count": null,
   "id": "8ba4129a",
   "metadata": {},
   "outputs": [],
   "source": [
    "# save document level information to csv\n",
    "doc_level_info = topic_model.get_document_info(docs)\n",
    "doc_level_info.to_csv('doc_level_info_ss.csv', index=False)"
   ]
  }
 ],
 "metadata": {
  "kernelspec": {
   "display_name": "Python 3 (ipykernel)",
   "language": "python",
   "name": "python3"
  },
  "language_info": {
   "codemirror_mode": {
    "name": "ipython",
    "version": 3
   },
   "file_extension": ".py",
   "mimetype": "text/x-python",
   "name": "python",
   "nbconvert_exporter": "python",
   "pygments_lexer": "ipython3",
   "version": "3.11.4"
  }
 },
 "nbformat": 4,
 "nbformat_minor": 5
}
