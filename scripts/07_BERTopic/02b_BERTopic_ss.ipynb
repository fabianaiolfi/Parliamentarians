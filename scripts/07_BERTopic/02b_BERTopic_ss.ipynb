{
 "cells": [
  {
   "cell_type": "markdown",
   "id": "453ea87e",
   "metadata": {},
   "source": [
    "# Semi-supervised BERTopic Modeling\n",
    "https://maartengr.github.io/BERTopic/getting_started/semisupervised/semisupervised.html"
   ]
  },
  {
   "cell_type": "markdown",
   "id": "15aae420",
   "metadata": {},
   "source": [
    "## Setup"
   ]
  },
  {
   "cell_type": "code",
   "execution_count": 1,
   "id": "befd5d2b-fd9b-41cd-a29c-5ace51820c18",
   "metadata": {},
   "outputs": [
    {
     "name": "stderr",
     "output_type": "stream",
     "text": [
      "/Users/aiolf1/anaconda3/envs/BERTopic/lib/python3.11/site-packages/tqdm/auto.py:21: TqdmWarning: IProgress not found. Please update jupyter and ipywidgets. See https://ipywidgets.readthedocs.io/en/stable/user_install.html\n",
      "  from .autonotebook import tqdm as notebook_tqdm\n"
     ]
    }
   ],
   "source": [
    "# ignore NumbaDeprecationWarning\n",
    "import numba\n",
    "import warnings\n",
    "warnings.filterwarnings(\"ignore\", category=numba.NumbaDeprecationWarning)\n",
    "\n",
    "from bertopic import BERTopic\n",
    "#from sklearn.datasets import fetch_20newsgroups\n",
    "\n",
    "import csv\n",
    "import re\n",
    "\n",
    "from nltk.corpus import stopwords\n",
    "\n",
    "from hdbscan import HDBSCAN\n",
    "\n",
    "import pandas as pd\n",
    "\n",
    "import numpy as np"
   ]
  },
  {
   "cell_type": "markdown",
   "id": "d4b4bc4f",
   "metadata": {},
   "source": [
    "## Import and Clean Data"
   ]
  },
  {
   "cell_type": "code",
   "execution_count": 2,
   "id": "2d2a363b",
   "metadata": {},
   "outputs": [],
   "source": [
    "df = pd.read_csv('all_businesses_04.tsv', sep='\\t')\n",
    "\n",
    "docs = df[\"all\"]\n",
    "categories = df[\"TagNames\"]\n",
    "\n",
    "# Convert categories to numbers\n",
    "categories = pd.factorize(categories)[0]"
   ]
  },
  {
   "cell_type": "code",
   "execution_count": 3,
   "id": "fe7d52a5-0c0e-4375-bf49-5d325de7527c",
   "metadata": {},
   "outputs": [],
   "source": [
    "# Remove punctuation\n",
    "docs = [re.sub(r'[^\\w\\s]', '', doc) for doc in docs]\n",
    "\n",
    "# Lowercase\n",
    "docs = [doc.lower() for doc in docs]\n",
    "\n",
    "# Remove stopwords\n",
    "german_stop_words = stopwords.words('german')\n",
    "\n",
    "# Import custom stopwords file as list of strings\n",
    "with open('../../data/custom_stopwords.txt', 'r') as f:\n",
    "   custom_stopwords = f.readlines()\n",
    "\n",
    "# remove whitespace characters like `\\n` at the end of each line\n",
    "custom_stopwords = [x.strip() for x in custom_stopwords]\n",
    "\n",
    "# remove stopwords from docs\n",
    "docs = [' '.join(word for word in doc.lower().split() if word not in german_stop_words) for doc in docs]\n",
    "docs = [' '.join(word for word in doc.lower().split() if word not in custom_stopwords) for doc in docs]\n",
    "\n",
    "# remove \"na\" from docs\n",
    "docs = [doc for doc in docs if doc != \"na\"]"
   ]
  },
  {
   "cell_type": "code",
   "execution_count": 4,
   "id": "e29262b3-60ae-438a-8467-14fc6b548613",
   "metadata": {},
   "outputs": [
    {
     "name": "stdout",
     "output_type": "stream",
     "text": [
      "['revision stiftungsrechtes 14 2000 reichte ständerat fritz schiesser rl gl parlamentarische form ausgearbeiteten entwurfs ziel geltende stiftungsrecht namentlich 80ff zivilgesetzbuchs zgb einschlägigen bestimmungen steuerrechts revidieren ziel gesetzentwurfs liberalisierung schweizerischen stiftungsrechts absicht stiftungsfreudigkeit erhöhen ständerat folgte antrag abgaben waks gab 8 20011 schiesser einstimmig revision stiftungsrecht beinhaltet namentlich revisionsbereiche einführung zweckänderungsvorbehalts einführung obligatorischen revisionsstelle erhöhung steuerlichen abzugsfähigkeit einfügung zweckänderungsvorbehalts errichtung stiftung zweckänderung einfacher erreicht interessen stifters lauf jahre verschieben neue bedürfnisse gesellschaft dringender stifter möchte veränderungen rechnung tragen zweckänderungsvorbehalt eröffnet möglichkeit zweckänderung ablauf beträchtlichen zeitspanne 10 jahre möglich bleiben interessen destinatäre gleichwohl geschützt kontrolle stiftungen erhöhte transparenz einsetzen obligatorischen rechnungsrevisionsstelle erreicht transparenz schafft vertrauen gerade zuwendungen dritter stiftung erhöhung abzugsmöglichkeit gespendeter beträge juristische öffentlichem gemeinnützigem zweck bundessteuer 10 40 reineinkommens juristischen reingewinns stiftungsfreudigkeit meisten gesteigert erhöhung rechtfertigt einerseits gemeinnützige aufgaben unterstützt anderseits direkte zuwendungen staatlichen ebenen kanton gemeinden deren anstalten erfolgen bestimmte einschränkende voraussetzungen erfüllt abzüge sogar 100 reineinkommens reingewinns betragen entsprechenden steuerlichen abzüge kantone gemeinden bleiben deren tarifhoheit überlassen justiz polizeidepartement stiftungsrecht liberalisierung zweckänderungsvorbehalt revisionsstelle steuerliche abzugsfähigkeit transparenz stiftungsfreudigkeit gemeinnützige aufgaben 10 steuerliche abzüge zentrale aussage textes revision stiftungsrechts angestrebt stiftungsfreudigkeit erhöhen', 'elektronische signatur bundesgesetz 1 2000 12 2000 dienste elektronischen zertifizierung zertifizierungsdiensteverordnung zertdv sr 784103 kraft getreten verabschiedung baldige aussicht gestellt anerkennung elektronischen digitalen signatur privatrechtsverkehr sorgt bundesgesetz zertifizierungsdienste bereich elektronischen signatur stelle versuchsverordnung konzipierten zeitlich befristeten zertifizierungsdiensteverordnung tritt art 21 abs 2 zertdv löst versprechen schweizerische vertragsrecht grundsatz vertragsfreiheit geprägt ausdruck findet formfreiheit art 11 abs 1 or verträge regel mündlich elektronischem beispielsweise email eingehen onlineangebot datennetzen internet stellt schweizerische formerfordernisse besteht möglichkeit verträge elektronisch schliessen eigenhändig müssen art 14 abs 1 or einfügung neuen bestimmung obligationenrecht rechtszustand überwunden art 14 abs 2bis eor verträge schriftform verlangt elektronisch dafür vertrag verpflichtet qualifizierten elektronischen signatur versehen vorgeschlagenen gleichstellung qualifizierten elektronischen signatur eigenhändigen unterschrift kommt postulate überwiesenen motionen spoerry 943115 rechtsverbindlichkeit elektronischer unterschriften 14 or ab 1994 n 1883 leumann 993288 digitale unterschrift ab 1999 s 819 f bundesgesetz zertifizierungsdienste bereich elektronischen signatur entspricht inhaltlich wesentlichen zertifizierungsdiensteverordnung davon ausgenommen bleibt haftung zertifizierungsdiensteverordnung konnte obligationenrecht abweichende haftungsordnung vorsehen erlass gesetzes macht möglich entsprechend sieht bundesgesetz zertifizierungsdienste bereich elektronischen signatur inhaber signaturschlüssels gewissen fällen missbrauch haftet art 59a eor gleichzeitig zertifizierungsdiensteanbieter verlangte dienstleistung einzustehen art 16 schafft bundesgesetz zertifizierungsdienste bereich elektronischen signatur optimale voraussetzungen sicheren rechtsgeschäftsverkehr elektronischer grundlage vorliegende entwurf beschränkt grundsätzlich verwendung elektronischen signatur privatrechtsverkehr elektronische behördenverkehr egovernment davon rande berührt elektronische kommunikation beispielsweise handelsregister art 929a eor geht vorlagen bleibt überlassen frage beantworten voraussetzungen beispielsweise rechtsschriften elektronisch verfügungen elektronisch eröffnet justiz polizeidepartement elektronische signatur zertifizierungsdienste privatrechtsverkehr schriftform rechtsgeschäftsverkehr egovernment 10 kommunikation bundesgesetz zertifizierungsdienste bereich elektronischen signatur elektronische verträge rechtsgültig']\n",
      "588\n"
     ]
    }
   ],
   "source": [
    "# Insepct Data\n",
    "\n",
    "# print head of docs\n",
    "print(docs[:2])\n",
    "\n",
    "# print size of docs\n",
    "print(len(docs)) # 18846"
   ]
  },
  {
   "cell_type": "markdown",
   "id": "1514b5a8",
   "metadata": {},
   "source": [
    "## Modelling"
   ]
  },
  {
   "cell_type": "code",
   "execution_count": 5,
   "id": "f9d83821-afbe-4c5c-a86e-0a19881291fe",
   "metadata": {},
   "outputs": [
    {
     "name": "stderr",
     "output_type": "stream",
     "text": [
      "Batches: 100%|██████████| 19/19 [02:55<00:00,  9.23s/it]\n",
      "2023-08-17 16:44:37,198 - BERTopic - Transformed documents to Embeddings\n",
      "2023-08-17 16:44:45,547 - BERTopic - Reduced dimensionality\n",
      "2023-08-17 16:44:45,595 - BERTopic - Clustered reduced embeddings\n",
      "Batches: 100%|██████████| 19/19 [02:56<00:00,  9.28s/it]\n",
      "2023-08-17 16:47:44,442 - BERTopic - Transformed documents to Embeddings\n",
      "2023-08-17 16:47:47,133 - BERTopic - Reduced dimensionality\n",
      "2023-08-17 16:47:47,181 - BERTopic - Clustered reduced embeddings\n"
     ]
    }
   ],
   "source": [
    "# https://maartengr.github.io/BERTopic/getting_started/parameter%20tuning/parametertuning.html#hdbscan\n",
    "hdbscan_model = HDBSCAN(\n",
    "    min_cluster_size = 2,\n",
    "    min_samples = 1,\n",
    "    metric = 'euclidean',\n",
    "    prediction_data = True)\n",
    "\n",
    "\n",
    "# BERTopic German model\n",
    "# Parameter tuning: https://maartengr.github.io/BERTopic/getting_started/parameter%20tuning/parametertuning.html#bertopic\n",
    "# topic_model = BERTopic(\n",
    "#     language = \"multilingual\",\n",
    "#     min_topic_size = 2,\n",
    "#     verbose = True,\n",
    "#     top_n_words = 20,\n",
    "#     n_gram_range = (1, 2),\n",
    "#     #calculate_probabilities = True, # turn on later again to calc probs\n",
    "#     hdbscan_model=hdbscan_model,\n",
    "#      # https://www.sbert.net/docs/pretrained_models.html\n",
    "#     embedding_model = \"distiluse-base-multilingual-cased-v1\").fit(docs, y = categories) # perform supervised topic modeling, we simply use all categories\n",
    "\n",
    "# Hyperparameter tuning - best results so far\n",
    "topic_model = BERTopic(\n",
    "    language = \"multilingual\",\n",
    "    min_topic_size = 2,\n",
    "    verbose = True,\n",
    "    top_n_words = 10,\n",
    "    n_gram_range = (1, 3),\n",
    "    hdbscan_model = hdbscan_model,\n",
    "     # https://www.sbert.net/docs/pretrained_models.html\n",
    "    embedding_model = \"paraphrase-multilingual-mpnet-base-v2\").fit(docs, y = categories) # perform supervised topic modeling, we simply use all categories\n",
    "\n",
    "topics, probs = topic_model.fit_transform(docs)"
   ]
  },
  {
   "cell_type": "code",
   "execution_count": 6,
   "id": "9ea15513",
   "metadata": {},
   "outputs": [],
   "source": [
    "# Save model\n",
    "topic_model.save(\"data/topic_model\", serialization=\"safetensors\", save_ctfidf=True)\n",
    "\n",
    "# Save topics and probs to file\n",
    "np.save('data/probs.npy', probs)\n",
    "np.save('data/topics.npy', topics)"
   ]
  },
  {
   "cell_type": "code",
   "execution_count": null,
   "id": "df9df11c",
   "metadata": {},
   "outputs": [],
   "source": [
    "# Load model\n",
    "BERTopic.load(\"data/topic_model\")\n",
    "\n",
    "# Import topics and probs\n",
    "probs = np.load('data/probs.npy', allow_pickle=True)\n",
    "topics = np.load('data/topics.npy', allow_pickle=True)\n",
    "topics = topics.tolist()"
   ]
  },
  {
   "cell_type": "code",
   "execution_count": 29,
   "id": "8e85ff8b",
   "metadata": {},
   "outputs": [],
   "source": [
    "# Reduce outliers\n",
    "new_topics = topic_model.reduce_outliers(docs, topics, strategy = \"embeddings\")\n",
    "#new_topics2 = topic_model.reduce_outliers(docs, topics, strategy = \"embeddings\", threshold = 0.5)\n",
    "#new_topics3 = topic_model.reduce_outliers(docs, topics, strategy = \"distributions\") \n",
    "#new_topics4 = topic_model.reduce_outliers(docs, topics, strategy = \"c-tf-idf\")"
   ]
  },
  {
   "cell_type": "code",
   "execution_count": 30,
   "id": "28b86f1d",
   "metadata": {},
   "outputs": [
    {
     "data": {
      "text/plain": [
       "False"
      ]
     },
     "execution_count": 30,
     "metadata": {},
     "output_type": "execute_result"
    }
   ],
   "source": [
    "# Evaluate new topics\n",
    "new_topics == new_topics4\n",
    "\n",
    "#diff = [(i, j) for i, j in zip(new_topics, new_topics3) if i != j]\n",
    "#print(\"Differences:\", diff)"
   ]
  },
  {
   "cell_type": "code",
   "execution_count": null,
   "id": "ec315277",
   "metadata": {},
   "outputs": [],
   "source": [
    "# Number of topics\n",
    "topic_info = topic_model.get_topic_info()\n",
    "num_topics = topic_info.shape[0]\n",
    "print(f\"There are {num_topics} topics.\")"
   ]
  },
  {
   "cell_type": "code",
   "execution_count": 7,
   "id": "8ba4129a",
   "metadata": {},
   "outputs": [],
   "source": [
    "# save document level information to csv\n",
    "doc_level_info = topic_model.get_document_info(docs)\n",
    "doc_level_info.to_csv('doc_level_info_ss.csv', index=False)"
   ]
  }
 ],
 "metadata": {
  "kernelspec": {
   "display_name": "Python 3 (ipykernel)",
   "language": "python",
   "name": "python3"
  },
  "language_info": {
   "codemirror_mode": {
    "name": "ipython",
    "version": 3
   },
   "file_extension": ".py",
   "mimetype": "text/x-python",
   "name": "python",
   "nbconvert_exporter": "python",
   "pygments_lexer": "ipython3",
   "version": "3.11.4"
  }
 },
 "nbformat": 4,
 "nbformat_minor": 5
}
