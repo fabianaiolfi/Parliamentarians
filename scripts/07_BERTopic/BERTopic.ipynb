{
 "cells": [
  {
   "cell_type": "markdown",
   "id": "15aae420",
   "metadata": {},
   "source": [
    "## Setup"
   ]
  },
  {
   "cell_type": "code",
   "execution_count": null,
   "id": "befd5d2b-fd9b-41cd-a29c-5ace51820c18",
   "metadata": {},
   "outputs": [],
   "source": [
    "# ignore NumbaDeprecationWarning\n",
    "import numba\n",
    "import warnings\n",
    "warnings.filterwarnings(\"ignore\", category=numba.NumbaDeprecationWarning)\n",
    "\n",
    "from bertopic import BERTopic\n",
    "#from sklearn.datasets import fetch_20newsgroups\n",
    "\n",
    "import csv\n",
    "import re\n",
    "\n",
    "from nltk.corpus import stopwords"
   ]
  },
  {
   "cell_type": "markdown",
   "id": "d4b4bc4f",
   "metadata": {},
   "source": [
    "## Import and Clean Data"
   ]
  },
  {
   "cell_type": "code",
   "execution_count": null,
   "id": "fe7d52a5-0c0e-4375-bf49-5d325de7527c",
   "metadata": {},
   "outputs": [],
   "source": [
    "# Import Businesses TSV as list of strings\n",
    "with open('initial_situation.tsv', newline='') as f:\n",
    "    reader = csv.reader(f, delimiter='\\t')\n",
    "    docs = [item.replace('\\xa0', ' ') for sublist in reader for item in sublist]\n",
    "\n",
    "# Remove punctuation\n",
    "docs = [re.sub(r'[^\\w\\s]', '', doc) for doc in docs]\n",
    "\n",
    "# Remove stopwords\n",
    "german_stop_words = stopwords.words('german')\n",
    "\n",
    "# Import custom stopwords file as list of strings\n",
    "with open('../../data/custom_stopwords.txt', 'r') as f:\n",
    "   custom_stopwords = f.readlines()\n",
    "\n",
    "# remove whitespace characters like `\\n` at the end of each line\n",
    "custom_stopwords = [x.strip() for x in custom_stopwords]\n",
    "\n",
    "# remove stopwords from docs\n",
    "docs = [' '.join(word for word in doc.lower().split() if word not in german_stop_words) for doc in docs]\n",
    "docs = [' '.join(word for word in doc.lower().split() if word not in custom_stopwords) for doc in docs]\n",
    "\n",
    "# remove \"na\" from docs\n",
    "docs = [doc for doc in docs if doc != \"na\"]"
   ]
  },
  {
   "cell_type": "code",
   "execution_count": null,
   "id": "e29262b3-60ae-438a-8467-14fc6b548613",
   "metadata": {},
   "outputs": [],
   "source": [
    "# Insepct Data\n",
    "\n",
    "# print head of docs\n",
    "#print(docs[:2])\n",
    "\n",
    "# print size of docs\n",
    "#print(len(docs)) # 18846"
   ]
  },
  {
   "cell_type": "markdown",
   "id": "1514b5a8",
   "metadata": {},
   "source": [
    "## Modelling"
   ]
  },
  {
   "cell_type": "code",
   "execution_count": 9,
   "id": "f9d83821-afbe-4c5c-a86e-0a19881291fe",
   "metadata": {},
   "outputs": [
    {
     "name": "stderr",
     "output_type": "stream",
     "text": [
      "Batches: 100%|██████████| 19/19 [00:57<00:00,  3.03s/it]\n",
      "2023-07-25 13:45:13,033 - BERTopic - Transformed documents to Embeddings\n",
      "2023-07-25 13:45:15,985 - BERTopic - Reduced dimensionality\n",
      "2023-07-25 13:45:16,008 - BERTopic - Clustered reduced embeddings\n"
     ]
    }
   ],
   "source": [
    "# BERTopic German model\n",
    "topic_model = BERTopic(language=\"german\", min_topic_size = 25, verbose = True)#.fit(docs)\n",
    "topics, probs = topic_model.fit_transform(docs)"
   ]
  },
  {
   "cell_type": "code",
   "execution_count": null,
   "id": "e8ca08cd",
   "metadata": {},
   "outputs": [],
   "source": [
    "#topic_model.visualize_topics()"
   ]
  },
  {
   "cell_type": "code",
   "execution_count": 11,
   "id": "67fc6f84",
   "metadata": {},
   "outputs": [
    {
     "name": "stdout",
     "output_type": "stream",
     "text": [
      "topic_model.get_topic_info()\n",
      "   Topic  Count                                               Name  \\\n",
      "0     -1    270          -1_schweiz_botschaft_abkommen_bundesrates   \n",
      "1      0     99       0_bundesrates_entwurf_änderung_nationalrates   \n",
      "2      1     77  1_versicherten_franken_massnahmen_krankenversi...   \n",
      "3      2     63              2_schweiz_schweizer_botschaft_franken   \n",
      "4      3     47         3_landwirtschaft_massnahmen_umwelt_schweiz   \n",
      "5      4     44                  4_schweiz_eu_botschaft_massnahmen   \n",
      "\n",
      "                                      Representation  \\\n",
      "0  [schweiz, botschaft, abkommen, bundesrates, wu...   \n",
      "1  [bundesrates, entwurf, änderung, nationalrates...   \n",
      "2  [versicherten, franken, massnahmen, krankenver...   \n",
      "3  [schweiz, schweizer, botschaft, franken, inter...   \n",
      "4  [landwirtschaft, massnahmen, umwelt, schweiz, ...   \n",
      "5  [schweiz, eu, botschaft, massnahmen, europäisc...   \n",
      "\n",
      "                                 Representative_Docs  \n",
      "0  [bundesrates 28102015 verabschiedet botschafte...  \n",
      "1  [materielle strafrecht seit langem vereinheitl...  \n",
      "2  [übersicht botschaft bundesgesetz 18 1994 kran...  \n",
      "3  [bundesrates 25022016 definiert bildungs forsc...  \n",
      "4  [umwelt raumplanung energie nationalrates 2508...  \n",
      "5  [bahnreform 2 legt schwergewicht neuordnung ha...  \n",
      "\n",
      "topic_model.get_topic(0)\n",
      "[('bundesrates', 0.020513350566660694), ('entwurf', 0.017709466333713474), ('änderung', 0.016665777237128816), ('nationalrates', 0.014547534367689716), ('bundesgericht', 0.013684660588221592), ('regelung', 0.013095228142984517), ('bundesversammlung', 0.012886070504999646), ('botschaft', 0.012109646400615886), ('personen', 0.012072768454768956), ('absatz', 0.012050328875923194)]\n",
      "\n",
      "topic_model.get_document_info(docs)\n",
      "                                              Document  Topic  \\\n",
      "0    23 2000 reichte nationalrat jeanmichel cina pa...      0   \n",
      "1    14 2000 reichte ständerat fritz schiesser rl g...      2   \n",
      "2    1 2000 verordnung 12 2000 dienste elektronisch...     -1   \n",
      "3    modernen medizin gibt kaum bereich grosses öff...      1   \n",
      "4    besonders wirksam bekämpfung kriminalität erwe...     -1   \n",
      "..                                                 ...    ...   \n",
      "595  bundesrates 02122022 verabschiedet botschaft ä...      0   \n",
      "596  bericht soziale sicherheit gesundheit national...      1   \n",
      "597  umwelt raumplanung energie nationalrates 24012...      3   \n",
      "598  bundesrates 12012023 aussenwirtschaftsbericht ...      2   \n",
      "599  bundesrates 01022023 auffangeinrichtung weiter...      1   \n",
      "\n",
      "                                                  Name  \\\n",
      "0         0_bundesrates_entwurf_änderung_nationalrates   \n",
      "1                2_schweiz_schweizer_botschaft_franken   \n",
      "2            -1_schweiz_botschaft_abkommen_bundesrates   \n",
      "3    1_versicherten_franken_massnahmen_krankenversi...   \n",
      "4            -1_schweiz_botschaft_abkommen_bundesrates   \n",
      "..                                                 ...   \n",
      "595       0_bundesrates_entwurf_änderung_nationalrates   \n",
      "596  1_versicherten_franken_massnahmen_krankenversi...   \n",
      "597         3_landwirtschaft_massnahmen_umwelt_schweiz   \n",
      "598              2_schweiz_schweizer_botschaft_franken   \n",
      "599  1_versicherten_franken_massnahmen_krankenversi...   \n",
      "\n",
      "                                        Representation  \\\n",
      "0    [bundesrates, entwurf, änderung, nationalrates...   \n",
      "1    [schweiz, schweizer, botschaft, franken, inter...   \n",
      "2    [schweiz, botschaft, abkommen, bundesrates, wu...   \n",
      "3    [versicherten, franken, massnahmen, krankenver...   \n",
      "4    [schweiz, botschaft, abkommen, bundesrates, wu...   \n",
      "..                                                 ...   \n",
      "595  [bundesrates, entwurf, änderung, nationalrates...   \n",
      "596  [versicherten, franken, massnahmen, krankenver...   \n",
      "597  [landwirtschaft, massnahmen, umwelt, schweiz, ...   \n",
      "598  [schweiz, schweizer, botschaft, franken, inter...   \n",
      "599  [versicherten, franken, massnahmen, krankenver...   \n",
      "\n",
      "                                   Representative_Docs  \\\n",
      "0    [materielle strafrecht seit langem vereinheitl...   \n",
      "1    [bundesrates 25022016 definiert bildungs forsc...   \n",
      "2    [bundesrates 28102015 verabschiedet botschafte...   \n",
      "3    [übersicht botschaft bundesgesetz 18 1994 kran...   \n",
      "4    [bundesrates 28102015 verabschiedet botschafte...   \n",
      "..                                                 ...   \n",
      "595  [materielle strafrecht seit langem vereinheitl...   \n",
      "596  [übersicht botschaft bundesgesetz 18 1994 kran...   \n",
      "597  [umwelt raumplanung energie nationalrates 2508...   \n",
      "598  [bundesrates 25022016 definiert bildungs forsc...   \n",
      "599  [übersicht botschaft bundesgesetz 18 1994 kran...   \n",
      "\n",
      "                                           Top_n_words  Probability  \\\n",
      "0    bundesrates - entwurf - änderung - nationalrat...     1.000000   \n",
      "1    schweiz - schweizer - botschaft - franken - in...     0.900566   \n",
      "2    schweiz - botschaft - abkommen - bundesrates -...     0.000000   \n",
      "3    versicherten - franken - massnahmen - krankenv...     1.000000   \n",
      "4    schweiz - botschaft - abkommen - bundesrates -...     0.000000   \n",
      "..                                                 ...          ...   \n",
      "595  bundesrates - entwurf - änderung - nationalrat...     0.689134   \n",
      "596  versicherten - franken - massnahmen - krankenv...     0.876498   \n",
      "597  landwirtschaft - massnahmen - umwelt - schweiz...     0.860685   \n",
      "598  schweiz - schweizer - botschaft - franken - in...     0.825652   \n",
      "599  versicherten - franken - massnahmen - krankenv...     0.809541   \n",
      "\n",
      "     Representative_document  \n",
      "0                      False  \n",
      "1                      False  \n",
      "2                      False  \n",
      "3                      False  \n",
      "4                      False  \n",
      "..                       ...  \n",
      "595                    False  \n",
      "596                    False  \n",
      "597                    False  \n",
      "598                    False  \n",
      "599                    False  \n",
      "\n",
      "[600 rows x 8 columns]\n",
      "\n",
      "There are 6 topics.\n"
     ]
    }
   ],
   "source": [
    "# Print outputs\n",
    "\n",
    "print(\"topic_model.get_topic_info()\")\n",
    "print(topic_model.get_topic_info())\n",
    "print()\n",
    "\n",
    "print(\"topic_model.get_topic(0)\")\n",
    "print(topic_model.get_topic(0))\n",
    "print()\n",
    "\n",
    "# extract information on a document level\n",
    "print(\"topic_model.get_document_info(docs)\")\n",
    "print(topic_model.get_document_info(docs)) \n",
    "print()\n",
    "\n",
    "# Number of topics\n",
    "topic_info = topic_model.get_topic_info()\n",
    "num_topics = topic_info.shape[0]\n",
    "print(f\"There are {num_topics} topics.\")"
   ]
  },
  {
   "cell_type": "markdown",
   "id": "37528d9b",
   "metadata": {},
   "source": [
    "## Topic Distribution"
   ]
  },
  {
   "cell_type": "code",
   "execution_count": null,
   "id": "d8a6839e",
   "metadata": {},
   "outputs": [],
   "source": [
    "# Get Topic Distribution\n",
    "topic_model = BERTopic(language=\"german\", min_topic_size=10).fit(docs)\n",
    "topic_distr, _ = topic_model.approximate_distribution(docs)\n",
    "print(topic_distr)"
   ]
  },
  {
   "cell_type": "code",
   "execution_count": null,
   "id": "54812846",
   "metadata": {},
   "outputs": [],
   "source": [
    "# Export topic_distribution as CSV\n",
    "with open('topic_distribution.csv', 'w', newline='') as f:\n",
    "    writer = csv.writer(f)\n",
    "    writer.writerows(topic_distr)"
   ]
  },
  {
   "cell_type": "markdown",
   "id": "90c17393",
   "metadata": {},
   "source": [
    "## Hierarchical Topic Modeling"
   ]
  },
  {
   "cell_type": "code",
   "execution_count": 12,
   "id": "a1a011b6",
   "metadata": {},
   "outputs": [
    {
     "name": "stderr",
     "output_type": "stream",
     "text": [
      "100%|██████████| 4/4 [00:00<00:00, 123.69it/s]"
     ]
    },
    {
     "name": "stdout",
     "output_type": "stream",
     "text": [
      ".\n",
      "├─bundesrates_massnahmen_änderung_regelung_entwurf\n",
      "│    ├─■──versicherten_franken_massnahmen_krankenversicherung_leistungen ── Topic: 1\n",
      "│    └─■──bundesrates_entwurf_änderung_nationalrates_bundesgericht ── Topic: 0\n",
      "└─schweiz_botschaft_massnahmen_eu_franken\n",
      "     ├─schweiz_eu_botschaft_franken_schweizer\n",
      "     │    ├─■──schweiz_eu_botschaft_massnahmen_europäischen ── Topic: 4\n",
      "     │    └─■──schweiz_schweizer_botschaft_franken_internationalen ── Topic: 2\n",
      "     └─■──landwirtschaft_massnahmen_umwelt_schweiz_energie ── Topic: 3\n",
      "\n"
     ]
    },
    {
     "name": "stderr",
     "output_type": "stream",
     "text": [
      "\n"
     ]
    }
   ],
   "source": [
    "hierarchical_topics = topic_model.hierarchical_topics(docs)\n",
    "tree = topic_model.get_topic_tree(hierarchical_topics)\n",
    "print(tree)"
   ]
  }
 ],
 "metadata": {
  "kernelspec": {
   "display_name": "Python 3 (ipykernel)",
   "language": "python",
   "name": "python3"
  },
  "language_info": {
   "codemirror_mode": {
    "name": "ipython",
    "version": 3
   },
   "file_extension": ".py",
   "mimetype": "text/x-python",
   "name": "python",
   "nbconvert_exporter": "python",
   "pygments_lexer": "ipython3",
   "version": "3.11.4"
  }
 },
 "nbformat": 4,
 "nbformat_minor": 5
}
