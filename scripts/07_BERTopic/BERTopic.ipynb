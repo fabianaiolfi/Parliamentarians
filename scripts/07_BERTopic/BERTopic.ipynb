{
 "cells": [
  {
   "cell_type": "markdown",
   "id": "15aae420",
   "metadata": {},
   "source": [
    "## Setup"
   ]
  },
  {
   "cell_type": "code",
   "execution_count": 107,
   "id": "befd5d2b-fd9b-41cd-a29c-5ace51820c18",
   "metadata": {},
   "outputs": [],
   "source": [
    "# ignore NumbaDeprecationWarning\n",
    "import numba\n",
    "import warnings\n",
    "warnings.filterwarnings(\"ignore\", category=numba.NumbaDeprecationWarning)\n",
    "\n",
    "from bertopic import BERTopic\n",
    "#from sklearn.datasets import fetch_20newsgroups\n",
    "\n",
    "import csv\n",
    "import re\n",
    "\n",
    "from nltk.corpus import stopwords\n",
    "\n",
    "from hdbscan import HDBSCAN\n",
    "\n",
    "import pandas as pd"
   ]
  },
  {
   "cell_type": "markdown",
   "id": "d4b4bc4f",
   "metadata": {},
   "source": [
    "## Import and Clean Data"
   ]
  },
  {
   "cell_type": "code",
   "execution_count": 108,
   "id": "fe7d52a5-0c0e-4375-bf49-5d325de7527c",
   "metadata": {},
   "outputs": [],
   "source": [
    "# Import Businesses TSV as list of strings\n",
    "with open('all_businesses.tsv', newline='') as f:\n",
    "    reader = csv.reader(f, delimiter='\\t')\n",
    "    docs = [item.replace('\\xa0', ' ') for sublist in reader for item in sublist]\n",
    "\n",
    "# Remove punctuation\n",
    "docs = [re.sub(r'[^\\w\\s]', '', doc) for doc in docs]\n",
    "\n",
    "# Lowercase\n",
    "docs = [doc.lower() for doc in docs]\n",
    "\n",
    "# Remove stopwords\n",
    "german_stop_words = stopwords.words('german')\n",
    "\n",
    "# Import custom stopwords file as list of strings\n",
    "with open('../../data/custom_stopwords.txt', 'r') as f:\n",
    "   custom_stopwords = f.readlines()\n",
    "\n",
    "# remove whitespace characters like `\\n` at the end of each line\n",
    "custom_stopwords = [x.strip() for x in custom_stopwords]\n",
    "\n",
    "# remove stopwords from docs\n",
    "docs = [' '.join(word for word in doc.lower().split() if word not in german_stop_words) for doc in docs]\n",
    "docs = [' '.join(word for word in doc.lower().split() if word not in custom_stopwords) for doc in docs]\n",
    "\n",
    "# remove \"na\" from docs\n",
    "docs = [doc for doc in docs if doc != \"na\"]"
   ]
  },
  {
   "cell_type": "code",
   "execution_count": 109,
   "id": "e29262b3-60ae-438a-8467-14fc6b548613",
   "metadata": {},
   "outputs": [
    {
     "name": "stdout",
     "output_type": "stream",
     "text": [
      "['schkg schutz gutgläubiger erwerber 23 2000 reichte nationalrat jeanmichel cina parlamentarische gutgläubige erwerber schützen konkursiten konkurseröffnung deren publikation beziehungsweise anmerkung grundbuch grundstück erwirbt 204 1 298 2 bundesgesetzes schuldbetreibung konkurs schkg seien entsprechend revidieren rechtsfragen nationalrates beantragte 23 2001 9 8 stimmen geben entgegen antrag gab nationalrat 15 2001 anschliessend arbeitete vorliegenden entwurf gesetzesänderung wobei inhaltlich geändert wurde anstatt vorsah immobiliarsachenrechtlichen gutglaubensschutz konkursbeschlag vorgehen lassen frist konkurseröffnung deren anmerkung grundbuch kurz möglich gehalten vorrang konkursbeschlages dagegen geändert beantragte folgende 176 2 schkg konkurs spätestens tage eröffnung grundbuch anzumerken stimmte beantragte jedoch regelung nachlassstundung beschliessen 296 zweiter satz schkg folgt ändern nachlassstundung spätestens tage bewilligung grundbuch anzumerken gutgläubiger erwerber schuldbetreibung konkurs schkg revisionsvorschlag immobiliarsachenrechtlicher gutglaubensschutz konkursbeschlag frist konkurseröffnung grundbucheintrag nachlassst zielt darauf ab schutz gutgläubigen erwerbers grundstücken konkurses verbessern', 'kriegsmaterialgesetz antipersonenminen sicherheitspolitik sicherheitspolitik kriegsmaterial antipersonenminen sicherheit abrüstung völkerrecht humanitäre waffenhandel rüstungsindustrie 10 internationale beziehungen wähler sollten bewusst stimme unterschied']\n",
      "672\n"
     ]
    }
   ],
   "source": [
    "# Insepct Data\n",
    "\n",
    "# print head of docs\n",
    "print(docs[:2])\n",
    "\n",
    "# print size of docs\n",
    "print(len(docs)) # 18846"
   ]
  },
  {
   "cell_type": "markdown",
   "id": "1514b5a8",
   "metadata": {},
   "source": [
    "## Modelling"
   ]
  },
  {
   "cell_type": "code",
   "execution_count": 130,
   "id": "f9d83821-afbe-4c5c-a86e-0a19881291fe",
   "metadata": {},
   "outputs": [
    {
     "name": "stderr",
     "output_type": "stream",
     "text": [
      "Batches: 100%|██████████| 21/21 [01:50<00:00,  5.28s/it]\n",
      "2023-07-25 18:09:08,298 - BERTopic - Transformed documents to Embeddings\n",
      "2023-07-25 18:09:11,270 - BERTopic - Reduced dimensionality\n",
      "2023-07-25 18:09:11,320 - BERTopic - Clustered reduced embeddings\n"
     ]
    }
   ],
   "source": [
    "# https://maartengr.github.io/BERTopic/getting_started/parameter%20tuning/parametertuning.html#hdbscan\n",
    "hdbscan_model = HDBSCAN(\n",
    "    min_cluster_size = 2,\n",
    "    metric = 'euclidean',\n",
    "    prediction_data = True)\n",
    "\n",
    "\n",
    "# BERTopic German model\n",
    "# Parameter tuning: https://maartengr.github.io/BERTopic/getting_started/parameter%20tuning/parametertuning.html#bertopic\n",
    "topic_model = BERTopic(\n",
    "    language = \"multilingual\",\n",
    "    min_topic_size = 2,\n",
    "    verbose = True,\n",
    "    top_n_words = 20,\n",
    "    n_gram_range = (1, 2),\n",
    "    #calculate_probabilities = True, # turn on later again to calc probs\n",
    "    hdbscan_model=hdbscan_model,\n",
    "    embedding_model = \"distiluse-base-multilingual-cased-v1\") # https://www.sbert.net/docs/pretrained_models.html\n",
    "#.fit(docs)\n",
    "\n",
    "topics, probs = topic_model.fit_transform(docs)"
   ]
  },
  {
   "cell_type": "code",
   "execution_count": 131,
   "id": "ec315277",
   "metadata": {},
   "outputs": [
    {
     "name": "stdout",
     "output_type": "stream",
     "text": [
      "There are 86 topics.\n"
     ]
    }
   ],
   "source": [
    "# Number of topics\n",
    "topic_info = topic_model.get_topic_info()\n",
    "num_topics = topic_info.shape[0]\n",
    "print(f\"There are {num_topics} topics.\")"
   ]
  },
  {
   "cell_type": "markdown",
   "id": "930fe50a",
   "metadata": {},
   "source": [
    "## Print Results"
   ]
  },
  {
   "cell_type": "code",
   "execution_count": 85,
   "id": "67fc6f84",
   "metadata": {},
   "outputs": [
    {
     "name": "stdout",
     "output_type": "stream",
     "text": [
      "topic_model.get_topic_info()\n",
      "    Topic  Count                                               Name  \\\n",
      "0      -1    111           -1_schweiz_botschaft_recht_übereinkommen   \n",
      "1       0     38  0_informationsaustausch_doppelbesteuerungsabko...   \n",
      "2       1     18                   1_meldestelle_schweiz_banken_snb   \n",
      "3       2     15  2_verkehr_rpv_verkehrssicherheit_schwerverkehr...   \n",
      "4       3     14  3_elektronische_elektronischen_signatur_person...   \n",
      "..    ...    ...                                                ...   \n",
      "83     82      2  82_quecksilber_feinstaub_schwermetalle_verringern   \n",
      "84     83      2  83_terrorismus_bekämpfung terrorismus_bekämpfu...   \n",
      "85     84      2  84_handelsregister_bodeninformationssystem_gru...   \n",
      "86     85      2       85_aufsichtsabgabe_64c_alv_aufsichtsbehörden   \n",
      "87     86      2  86_uk_sma_dienstleistungserbringern_dienstleis...   \n",
      "\n",
      "                                       Representation  \\\n",
      "0   [schweiz, botschaft, recht, übereinkommen, änd...   \n",
      "1   [informationsaustausch, doppelbesteuerungsabko...   \n",
      "2   [meldestelle, schweiz, banken, snb, währungshi...   \n",
      "3   [verkehr, rpv, verkehrssicherheit, schwerverke...   \n",
      "4   [elektronische, elektronischen, signatur, pers...   \n",
      "..                                                ...   \n",
      "83  [quecksilber, feinstaub, schwermetalle, verrin...   \n",
      "84  [terrorismus, bekämpfung terrorismus, bekämpfu...   \n",
      "85  [handelsregister, bodeninformationssystem, gru...   \n",
      "86  [aufsichtsabgabe, 64c, alv, aufsichtsbehörden,...   \n",
      "87  [uk, sma, dienstleistungserbringern, dienstlei...   \n",
      "\n",
      "                                  Representative_Docs  \n",
      "0   [patentrechtsvertrag genehmigung ausführungsve...  \n",
      "1   [doppelbesteuerung abkommen kuwait 26082020 ve...  \n",
      "2   [multilaterale vereinbarung zuständigen behörd...  \n",
      "3   [regionaler personenverkehr 20182021 verpflich...  \n",
      "4   [bundesgesetz elektronische signatur zertes to...  \n",
      "..                                                ...  \n",
      "83  [grenzüberschreitende luftverunreinigung übere...  \n",
      "84  [bekämpfung terrorismus abkommen vereinigten s...  \n",
      "85  [or handelsregisterrecht 15042015 handelsregis...  \n",
      "86  [überwälzung aufsichtsabgabe oak bv ergänzung ...  \n",
      "87  [beitritt schweiz internationalen ericforschun...  \n",
      "\n",
      "[88 rows x 5 columns]\n"
     ]
    }
   ],
   "source": [
    "print(\"topic_model.get_topic_info()\")\n",
    "print(topic_model.get_topic_info())"
   ]
  },
  {
   "cell_type": "code",
   "execution_count": 51,
   "id": "6da61f1e",
   "metadata": {},
   "outputs": [
    {
     "name": "stdout",
     "output_type": "stream",
     "text": [
      "topic_model.get_topic(0)\n",
      "[('informationsaustausch', 0.06903427671805619), ('doppelbesteuerungsabkommen', 0.059208786419129536), ('dba', 0.05799066336039875), ('doppelbesteuerung', 0.05738622339487173), ('abkommen', 0.051573464671800406), ('dividenden', 0.03303146027793287), ('interessierten', 0.031403557511010524), ('änderungsprotokoll', 0.031314699169353005), ('wirtschaftskreise', 0.030739057081380777), ('abschluss', 0.027916721534702392)]\n"
     ]
    }
   ],
   "source": [
    "print(\"topic_model.get_topic(0)\")\n",
    "print(topic_model.get_topic(0))"
   ]
  },
  {
   "cell_type": "code",
   "execution_count": 132,
   "id": "8ba4129a",
   "metadata": {},
   "outputs": [],
   "source": [
    "# extract information on a document level\n",
    "#print(\"topic_model.get_document_info(docs)\")\n",
    "#print(topic_model.get_document_info(docs))\n",
    "\n",
    "# save document level information to csv\n",
    "doc_level_info = topic_model.get_document_info(docs)\n",
    "\n",
    "#doc_level_info.to_csv('doc_level_info.csv', index=False)\n",
    "\n",
    "# save doc_level_info to csv\n",
    "# with open('doc_level_info.csv', 'w', newline='') as f:\n",
    "#     writer = csv.writer(f)\n",
    "#     writer.writerows(doc_level_info)\n"
   ]
  },
  {
   "cell_type": "code",
   "execution_count": 100,
   "id": "2f43fd7c",
   "metadata": {},
   "outputs": [
    {
     "data": {
      "text/plain": [
       "pandas.core.frame.DataFrame"
      ]
     },
     "execution_count": 100,
     "metadata": {},
     "output_type": "execute_result"
    }
   ],
   "source": []
  },
  {
   "cell_type": "code",
   "execution_count": 106,
   "id": "335ca9a2",
   "metadata": {},
   "outputs": [
    {
     "data": {
      "text/plain": [
       "pandas.core.series.Series"
      ]
     },
     "execution_count": 106,
     "metadata": {},
     "output_type": "execute_result"
    }
   ],
   "source": [
    "# Get the unique values in the \"Representation\" column\n",
    "\n",
    "unique_values_representation = doc_level_info['Representation']\n",
    "\n",
    "type(unique_values_representation)\n",
    "\n"
   ]
  },
  {
   "cell_type": "markdown",
   "id": "37528d9b",
   "metadata": {},
   "source": [
    "## Topic Distribution"
   ]
  },
  {
   "cell_type": "code",
   "execution_count": 66,
   "id": "d8a6839e",
   "metadata": {},
   "outputs": [
    {
     "name": "stdout",
     "output_type": "stream",
     "text": [
      "(672, 59)\n"
     ]
    }
   ],
   "source": [
    "#topic_distr, _ = topic_model.approximate_distribution(docs)\n",
    "#print(topic_distr)\n",
    "\n",
    "# print dimension of probs\n",
    "#print(probs.shape)"
   ]
  },
  {
   "cell_type": "code",
   "execution_count": 67,
   "id": "54812846",
   "metadata": {},
   "outputs": [],
   "source": [
    "# Export topic_distribution as CSV\n",
    "with open('topic_distribution_test.csv', 'w', newline='') as f:\n",
    "    writer = csv.writer(f)\n",
    "    #writer.writerows(topic_distr)\n",
    "    writer.writerows(probs)"
   ]
  },
  {
   "cell_type": "markdown",
   "id": "90c17393",
   "metadata": {},
   "source": [
    "## Hierarchical Topic Modeling"
   ]
  },
  {
   "cell_type": "code",
   "execution_count": 84,
   "id": "a1a011b6",
   "metadata": {},
   "outputs": [
    {
     "name": "stderr",
     "output_type": "stream",
     "text": [
      "100%|██████████| 86/86 [00:00<00:00, 117.25it/s]"
     ]
    },
    {
     "name": "stdout",
     "output_type": "stream",
     "text": [
      ".\n",
      "├─wähler sollten_bewusst stimme_stimme unterschied_sollten bewusst_wähler\n",
      "│    ├─bewusst stimme_wähler sollten_sollten bewusst_stimme unterschied_wähler\n",
      "│    │    ├─finanzwesen_finanzwesen finanzwesen_sollten bewusst_bewusst stimme_wähler sollten\n",
      "│    │    │    ├─■──doppelbesteuerung_finanzwesen_steuerrecht internationale_finanzwesen steuerrecht_steuerabkommen ── Topic: 4\n",
      "│    │    │    └─■──finanzwesen_finanzwesen finanzwesen_stimme unterschied_sollten bewusst_bewusst stimme ── Topic: 7\n",
      "│    │    └─stimme unterschied_wähler sollten_sollten bewusst_bewusst stimme_wähler\n",
      "│    │         ├─bewusst stimme_stimme unterschied_sollten bewusst_wähler sollten_wähler\n",
      "│    │         │    ├─stimme unterschied_sollten bewusst_wähler sollten_bewusst stimme_wähler\n",
      "│    │         │    │    ├─■──wähler sollten_sollten bewusst_stimme unterschied_bewusst stimme_gesundheit ── Topic: 37\n",
      "│    │         │    │    └─■──wähler sollten_sollten bewusst_stimme unterschied_bewusst stimme_wähler ── Topic: 8\n",
      "│    │         │    └─■──umwelt_energie_wähler sollten_sollten bewusst_stimme unterschied ── Topic: 10\n",
      "│    │         └─bildung_sollten bewusst_wähler sollten_stimme unterschied_bewusst stimme\n",
      "│    │              ├─■──bildung_wähler sollten_stimme unterschied_sollten bewusst_bewusst stimme ── Topic: 26\n",
      "│    │              └─■──wirtschaft_personenfreizügigkeitsabkommen_bildung_departement wirtschaft_wirtschaft bildung ── Topic: 73\n",
      "│    └─■──organisation migration_nr 122_migration_122_arbeitsorganisation übereinkommen ── Topic: 80\n",
      "└─schweiz_botschaft_10_änderung_wurde\n",
      "     ├─schweiz_abkommen_botschaft_wurde_internationale\n",
      "     │    ├─vis_übernahme_schengenstaaten_etias_schengenbesitzstands\n",
      "     │    │    ├─etias_vis_schengenraum_bazg_sis\n",
      "     │    │    │    ├─■──etias_vis_bazg_etias vis_cir ── Topic: 65\n",
      "     │    │    │    └─■──itagentur_fado_interoperabilität_informationssysteme_zusatzvereinbarung ── Topic: 52\n",
      "     │    │    └─übernahme_schengenstaaten_binnengrenzen_weiterentwicklung_daten\n",
      "     │    │         ├─■──daten_aussengrenzenfonds_vis_schengen_2008 ── Topic: 51\n",
      "     │    │         └─■──binnengrenzen_schengenstaaten_übernahme_rückführungsrichtlinie_personenkontrollen ── Topic: 42\n",
      "     │    └─schweiz_abkommen_botschaft_internationale_wurde\n",
      "     │         ├─schweiz_abkommen_internationale_botschaft_wurde\n",
      "     │         │    ├─schweiz_zusammenarbeit_internationale_landwirtschaft_internationalen\n",
      "     │         │    │    ├─schweiz_landwirtschaft_internationale_schweizer_botschaft\n",
      "     │         │    │    │    ├─schweiz_förderung_schweizer_internationalen_internationale\n",
      "     │         │    │    │    │    ├─schweiz_schweizer_bildung_internationalen_internationale\n",
      "     │         │    │    │    │    │    ├─internationalen_internationale_übereinkommen_aussenwirtschaftspolitik_schweiz\n",
      "     │         │    │    │    │    │    │    ├─■──schutzzeichen_tierschutz_roten_tierschutzgesetz_vollzug ── Topic: 57\n",
      "     │         │    │    │    │    │    │    └─übereinkommen_internationalen_internationale_aussenwirtschaftspolitik_schweiz\n",
      "     │         │    │    │    │    │    │         ├─übereinkommen_aussenwirtschaftspolitik_internationale_internationalen_zwangsarbeit\n",
      "     │         │    │    │    │    │    │         │    ├─■──aussenwirtschaftspolitik_bericht_20172020_zusammenarbeit_internationale ── Topic: 27\n",
      "     │         │    │    │    │    │    │         │    └─■──übereinkommen_zwangsarbeit_arbeitsorganisation_verschwindenlassen_arbeitsbedingungen ── Topic: 25\n",
      "     │         │    │    │    │    │    │         └─■──auslandschweizer_vorrechte_vorrechte immunitäten_immunitäten_gaststaatpolitik ── Topic: 79\n",
      "     │         │    │    │    │    │    └─bildung_schweizer_kultur_förderung_forschung\n",
      "     │         │    │    │    │    │         ├─kultur_bildung_schweizerschulen_kulturförderung_weiterbildung\n",
      "     │         │    │    │    │    │         │    ├─■──kultur_kulturförderung_kulturgut_schutz kulturgut_kulturbotschaft ── Topic: 56\n",
      "     │         │    │    │    │    │         │    └─■──bildung_schweizerschulen_weiterbildung_schule_grundkompetenzen ── Topic: 46\n",
      "     │         │    │    │    │    │         └─forschung_uk_innosuisse_innovation_sma\n",
      "     │         │    │    │    │    │              ├─■──innosuisse_forschung_innovation_innovationsförderung_kti ── Topic: 71\n",
      "     │         │    │    │    │    │              └─■──uk_sma_dienstleistungserbringern_dienstleistungserbringer_mobilität dienstleistungserbringern ── Topic: 86\n",
      "     │         │    │    │    │    └─radio_medien_schweiz_bibliomedia_fonds\n",
      "     │         │    │    │    │         ├─radio_srg_fonds_public_service public\n",
      "     │         │    │    │    │         │    ├─■──fonds_erg_ausland_sicherheitsunternehmen_sicherheitsdienstleistungen ── Topic: 43\n",
      "     │         │    │    │    │         │    └─■──radio_srg_service public_public_service ── Topic: 50\n",
      "     │         │    │    │    │         └─bibliomedia_medien_memoriav_stiftung_finanzhilfe\n",
      "     │         │    │    │    │              ├─bibliomedia_memoriav_stiftung_finanzhilfe_medien\n",
      "     │         │    │    │    │              │    ├─■──bibliomedia_memoriav_stiftung_finanzhilfe_vhs ── Topic: 24\n",
      "     │         │    │    │    │              │    └─■──friedensförderung_medien_menschenrechte_nmri_onlinemedien ── Topic: 72\n",
      "     │         │    │    │    │              └─■──post_gebühr_öffentlichkeitsprinzip_postdienste_poststellennetz ── Topic: 75\n",
      "     │         │    │    │    └─landwirtschaft_armee_schweiz_eu_europäischen\n",
      "     │         │    │    │         ├─landwirtschaft_ernährungssicherheit_gvo_produktion_lebensmittel\n",
      "     │         │    │    │         │    ├─■──gvo_landwirtschaft_pflanzen_moratorium_arten ── Topic: 35\n",
      "     │         │    │    │         │    └─landwirtschaft_ernährungssicherheit_produktion_lebensmittel_eu\n",
      "     │         │    │    │         │         ├─■──landwirtschaft_direktzahlungen_agrarpolitik_ap_produktion ── Topic: 49\n",
      "     │         │    │    │         │         └─■──ernährungssicherheit_lebensmittel_landwirtschaft_eu_fleisch ── Topic: 16\n",
      "     │         │    │    │         └─armee_schweiz_eg_waffen_europäischen\n",
      "     │         │    │    │              ├─armee_waffen_streumunition_feuerwaffen_waffengesetz\n",
      "     │         │    │    │              │    ├─■──waffenhandel_waffenrichtlinie_att_embargogesetzes_waffen ── Topic: 64\n",
      "     │         │    │    │              │    └─■──armee_streumunition_waffen_waffengesetz_feuerwaffen ── Topic: 31\n",
      "     │         │    │    │              └─schweiz_eg_europäischen_luftfahrtgesetz_luftfahrtgesetzes\n",
      "     │         │    │    │                   ├─eg_europäischen_schweiz_luftfahrtgesetz_luftfahrtgesetzes\n",
      "     │         │    │    │                   │    ├─■──luftfahrtgesetz_luftfahrtgesetzes_gripen_beschaffung_luftverkehrsunternehmen ── Topic: 12\n",
      "     │         │    │    │                   │    └─■──adn_norwegen_europäischen_eg_rhein ── Topic: 58\n",
      "     │         │    │    │                   └─■──quecksilber_feinstaub_schwermetalle_verringern_konvention ── Topic: 82\n",
      "     │         │    │    └─zusammenarbeit_kriminalität_abkommen_bekämpfung_rechtshilfe\n",
      "     │         │    │         ├─zusammenarbeit_kriminalität_abkommen_rechtshilfe_überstellung\n",
      "     │         │    │         │    ├─■──rechtshilfe_überstellung_kosovo_zusatzprotokoll_strafsachen ── Topic: 39\n",
      "     │         │    │         │    └─■──zusammenarbeit_abkommen_kriminalität_grenzüberschreitende_bekämpfung ── Topic: 17\n",
      "     │         │    │         └─■──terrorismus_bekämpfung terrorismus_bekämpfung_polizeizusammenarbeit_owa ── Topic: 83\n",
      "     │         │    └─abkommen_informationsaustausch_schweiz_ahv_botschaft\n",
      "     │         │         ├─abkommen_informationsaustausch_schweiz_doppelbesteuerungsabkommen_finanzwesen\n",
      "     │         │         │    ├─abkommen_informationsaustausch_doppelbesteuerungsabkommen_dba_doppelbesteuerung\n",
      "     │         │         │    │    ├─■──abkommen_sozialversicherungsabkommen_vertragsstaaten_hinterlassenen invaliditätsvorsorge_invalidität ── Topic: 36\n",
      "     │         │         │    │    └─informationsaustausch_abkommen_doppelbesteuerungsabkommen_dba_doppelbesteuerung\n",
      "     │         │         │    │         ├─■──informationsaustausch_doppelbesteuerungsabkommen_dba_doppelbesteuerung_abkommen ── Topic: 0\n",
      "     │         │         │    │         └─■──verrechnungssteuer_schweiz_obligationen_besteuerung_prozent ── Topic: 6\n",
      "     │         │         │    └─massnahmen_franken_botschaft_finanzwesen_2021\n",
      "     │         │         │         ├─massnahmen_franken_botschaft_finanzwesen_2021\n",
      "     │         │         │         │    ├─■──entlastungsprogramm_finanzierungsrechnung_kreditsperre_haushaltssteuerung_erfolgsrechnung ── Topic: 76\n",
      "     │         │         │         │    └─massnahmen_franken_botschaft_2021_unternehmen\n",
      "     │         │         │         │         ├─■──iv_ivrevision_eingliederung_neue_anstalt ── Topic: 38\n",
      "     │         │         │         │         └─2021_unternehmen_massnahmen_franken_schweiz\n",
      "     │         │         │         │              ├─■──emissionsabgabe_abschaffung_beherbergungsleistungen_abschaffung emissionsabgabe_emissionsabgabe eige ── Topic: 14\n",
      "     │         │         │         │              └─2021_covid19gesetz_meldestelle_schweiz_botschaft\n",
      "     │         │         │         │                   ├─■──covid19gesetz_2021_sportveranstaltungen_covid19gesetzes_gesundheit ── Topic: 9\n",
      "     │         │         │         │                   └─■──meldestelle_schweiz_banken_snb_währungshilfe ── Topic: 1\n",
      "     │         │         │         └─■──aufsichtsabgabe_64c_alv_aufsichtsbehörden_überwälzung ── Topic: 85\n",
      "     │         │         └─ahv_altersvorsorge_vorsorge_reform_beruflichen vorsorge\n",
      "     │         │              ├─■──altersvorsorge_vorsorge_ahv_beruflichen vorsorge_beruflichen ── Topic: 30\n",
      "     │         │              └─■──ahv_ahvnummer_stabilisierung_aufsicht_stabilisierung ahv ── Topic: 53\n",
      "     │         └─verkehr_energie_umwelt_massnahmen_umwelt verkehr\n",
      "     │              ├─verkehr_energie_umwelt_umwelt verkehr_energie kommunikation\n",
      "     │              │    ├─verkehr_nationalstrassen_franken_rund_öffentlichen\n",
      "     │              │    │    ├─■──übernachtungsentschädigung_reisezeit_binnenschifffahrt_terrain_cargo ── Topic: 54\n",
      "     │              │    │    └─verkehr_nationalstrassen_franken_rund_rpv\n",
      "     │              │    │         ├─■──verkehr_rpv_verkehrssicherheit_schwerverkehrsabgabe_personenverkehr ── Topic: 2\n",
      "     │              │    │         └─■──nationalstrassen_nationalstrassennetz_verkehr_autobahnvignette_naf ── Topic: 29\n",
      "     │              │    └─energie_umwelt_energien_raumplanung energie_umwelt raumplanung\n",
      "     │              │         ├─energie_umwelt_energien_umwelt raumplanung_raumplanung energie\n",
      "     │              │         │    ├─■──gewässer_umwelt_wasser_ara_lebendiges wasser ── Topic: 34\n",
      "     │              │         │    └─■──energie_energien_energieeffizienz_umwelt_erneuerbare ── Topic: 11\n",
      "     │              │         └─■──stauanlagen_umweltverträglichkeitsprüfung_altlasten_tessin_standorte ── Topic: 48\n",
      "     │              └─co2gesetzes_gletscherinitiative_treibhausgasemissionen_2050_co2gesetz\n",
      "     │                   ├─■──co2gesetzes_gletscherinitiative_urekn_2050_co2abgabe ── Topic: 61\n",
      "     │                   └─■──treibhausgasemissionen_minus_gletscherinitiative_gegenentwurf_2050 ── Topic: 77\n",
      "     └─volksinitiative_änderung_kinder_recht_personen\n",
      "          ├─krankenversicherung_kvg_pflege_gesundheit_versicherer\n",
      "          │    ├─■──pflege_pflegefachpersonen_ausbildungsoffensive_pflegeinitiative_qualität ── Topic: 41\n",
      "          │    └─krankenversicherung_kvg_prämien_versicherer_gesundheit\n",
      "          │         ├─■──unterversorgung_ambulanten_kanton_kvg_ambulante ── Topic: 69\n",
      "          │         └─■──krankenversicherung_prämien_versicherer_kvg_versicherten ── Topic: 15\n",
      "          └─volksinitiative_änderung_recht_kinder_personen\n",
      "               ├─volksinitiative_kinder_änderung_personen_eltern\n",
      "               │    ├─kinder_eltern_person_recht_änderung\n",
      "               │    │    ├─stammzellen_embryonen_person_elektronische_daten\n",
      "               │    │    │    ├─kapitalanlagen_kollektive_treibstoffe_anlagefondsgesetzgebung_kollektive kapitalanlagen\n",
      "               │    │    │    │    ├─■──treibstoffe_mineralölsteuergesetz_treibstoffen_mineralölsteuer_pistenfahrzeuge ── Topic: 67\n",
      "               │    │    │    │    └─■──kapitalanlagen_kollektive_kollektive kapitalanlagen_lqif_anlagefondsgesetzgebung ── Topic: 78\n",
      "               │    │    │    └─stammzellen_embryonen_person_elektronische_daten\n",
      "               │    │    │         ├─stammzellen_embryonen_person_elektronische_daten\n",
      "               │    │    │         │    ├─stammzellen_embryonen_elektronische_daten_person\n",
      "               │    │    │         │    │    ├─stammzellen_embryonen_elektronische_elektronischen_untersuchungen\n",
      "               │    │    │         │    │    │    ├─■──ministerinnen_minister_ministerinnen minister_politische_delegierten ── Topic: 63\n",
      "               │    │    │         │    │    │    └─stammzellen_embryonen_elektronische_elektronischen_daten\n",
      "               │    │    │         │    │    │         ├─elektronische_elektronischen_signatur_personendaten_daten\n",
      "               │    │    │         │    │    │         │    ├─■──phänotypisierung_rhg_geschlecht_verbrechen_gleichstellungsgesetz ── Topic: 60\n",
      "               │    │    │         │    │    │         │    └─■──elektronische_elektronischen_signatur_personendaten_elektronischer ── Topic: 3\n",
      "               │    │    │         │    │    │         └─■──stammzellen_embryonen_untersuchungen_zellen_organen ── Topic: 40\n",
      "               │    │    │         │    │    └─asylverfahren_asyl_asylgesetzes_änderungen_ahvversichertennummer\n",
      "               │    │    │         │    │         ├─■──ahvversichertennummer_versicherungsgericht_versicherungsunternehmen_kostenpflicht_sozialversicherung ── Topic: 62\n",
      "               │    │    │         │    │         └─■──asylverfahren_asyl_asylgesetzes_migration_asylsuchende ── Topic: 28\n",
      "               │    │    │         │    └─beschwerden_stpo_menschlichkeit_verbrechen menschlichkeit_bundesanwaltschaft\n",
      "               │    │    │         │         ├─stpo_bundesanwaltschaft_strafprozessordnung_strafbehörden_verteidigungsrechte\n",
      "               │    │    │         │         │    ├─■──zivilprozessordnung_kollektiven_zugang gericht_gericht_strafprozessordnung ── Topic: 66\n",
      "               │    │    │         │         │    └─■──bundesanwaltschaft_strafbehörden_stpo_verteidigungsrechte_strafbehörden bundes ── Topic: 74\n",
      "               │    │    │         │         └─■──beschwerden_menschlichkeit_verbrechen menschlichkeit_kriegsverbrechen_verbrechen ── Topic: 68\n",
      "               │    │    │         └─konkurs_handelsregister_schkg_grundbuch_gläubiger\n",
      "               │    │    │              ├─■──konkurs_schkg_gläubiger_konkurses_schuldbetreibung ── Topic: 45\n",
      "               │    │    │              └─■──handelsregister_bodeninformationssystem_grundbuch_bauhandwerker_eintragung ── Topic: 84\n",
      "               │    │    └─kinder_eltern_kinderbetreuung_ehe_kindern\n",
      "               │    │         ├─kinder_eltern_kinderbetreuung_familie_tabakwerbung\n",
      "               │    │         │    ├─■──tabakwerbung_tabakprodukte_ezigaretten_medizinalcannabis_kinder ── Topic: 20\n",
      "               │    │         │    └─eltern_kinderbetreuung_kinder_familie_vereinbarkeit\n",
      "               │    │         │         ├─■──kinderbetreuung_eltern_familie_finanzhilfen_vereinbarkeit ── Topic: 21\n",
      "               │    │         │         └─■──urlaub_geburt_mutterschaftsentschädigung_wochen_aufarbeitung ── Topic: 44\n",
      "               │    │         └─ehe_sexuellen_sorge_partnerschaft_kindern\n",
      "               │    │              ├─ehe_sorge_partnerschaft_elterliche sorge_elterliche\n",
      "               │    │              │    ├─■──ehe_sorge_elterliche sorge_partnerschaft_elterliche ── Topic: 22\n",
      "               │    │              │    └─■──erbrecht_wohnung_gewalt_zolllager_opfer ── Topic: 70\n",
      "               │    │              └─■──sexuellen_kindern_estgb_mindeststrafe_tatbestand ── Topic: 33\n",
      "               │    └─volksinitiative_integration_ausländer_gegenvorschlag_zuwanderung\n",
      "               │         ├─integration_volksinitiative_ausländer_gegenvorschlag_zuwanderung\n",
      "               │         │    ├─■──wirtschaft_grüne wirtschaft_grüne_landschaftsinitiative_gegenvorschlag ── Topic: 81\n",
      "               │         │    └─integration_ausländer_zuwanderung_ausländerinnen_volksinitiative\n",
      "               │         │         ├─integration_ausländer_zuwanderung_ausländerinnen_ausländerinnen ausländer\n",
      "               │         │         │    ├─■──ausländer_integration_ausländerinnen_ausländerinnen ausländer_zuwanderung ── Topic: 5\n",
      "               │         │         │    └─■──volksinitiative_löhne_vergütungen_grundeinkommen_ablehnung ── Topic: 19\n",
      "               │         │         └─■──corporate_generalversammlung_corporate governance_governance_rab ── Topic: 55\n",
      "               │         └─volksinitiative_allgemeinen volksinitiative_allgemeinen_volksabstimmungen_einbürgerungen\n",
      "               │              ├─■──allgemeinen volksinitiative_allgemeinen_volksinitiative_allgemeine volksinitiative_nationalratskandi ── Topic: 47\n",
      "               │              └─■──einbürgerungen_volksinitiative_volksabstimmungen_volkswahl_aussenpolitik ── Topic: 59\n",
      "               └─bundesgericht_richter_bundesversammlung_richterinnen_nationalrates\n",
      "                    ├─bundesgericht_richter_richterinnen_richterinnen richter_besoldung\n",
      "                    │    ├─■──richter_richterinnen_bundesgericht_richterinnen richter_rks ── Topic: 32\n",
      "                    │    └─■──bundesgericht_arbeitsverhältnis_bpg_vorinstanz_bundesstrafgericht ── Topic: 23\n",
      "                    └─nationalrates_bundesversammlung_parlamentsgebäude_krisensituationen_verträge\n",
      "                         ├─■──nationalrates_krisensituationen_verträge_bundesversammlung_mitglieder ── Topic: 18\n",
      "                         └─■──prg_parlamentsressourcengesetz_fraktionsbeiträge_franken_500 ── Topic: 13\n",
      "\n"
     ]
    },
    {
     "name": "stderr",
     "output_type": "stream",
     "text": [
      "\n"
     ]
    }
   ],
   "source": [
    "hierarchical_topics = topic_model.hierarchical_topics(docs)\n",
    "tree = topic_model.get_topic_tree(hierarchical_topics)\n",
    "print(tree)"
   ]
  }
 ],
 "metadata": {
  "kernelspec": {
   "display_name": "Python 3 (ipykernel)",
   "language": "python",
   "name": "python3"
  },
  "language_info": {
   "codemirror_mode": {
    "name": "ipython",
    "version": 3
   },
   "file_extension": ".py",
   "mimetype": "text/x-python",
   "name": "python",
   "nbconvert_exporter": "python",
   "pygments_lexer": "ipython3",
   "version": "3.11.4"
  }
 },
 "nbformat": 4,
 "nbformat_minor": 5
}
